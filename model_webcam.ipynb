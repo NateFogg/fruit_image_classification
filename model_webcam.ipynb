{
 "cells": [
  {
   "cell_type": "code",
   "execution_count": 2,
   "metadata": {},
   "outputs": [
    {
     "name": "stderr",
     "output_type": "stream",
     "text": [
      "2022-12-12 20:53:00.840131: I tensorflow/core/platform/cpu_feature_guard.cc:193] This TensorFlow binary is optimized with oneAPI Deep Neural Network Library (oneDNN) to use the following CPU instructions in performance-critical operations:  AVX2 FMA\n",
      "To enable them in other operations, rebuild TensorFlow with the appropriate compiler flags.\n"
     ]
    },
    {
     "name": "stdout",
     "output_type": "stream",
     "text": [
      "/Users/nathanielfogg/Desktop/Classes/Computer Science/Machine Learning/Final Project\n"
     ]
    },
    {
     "name": "stderr",
     "output_type": "stream",
     "text": [
      "2022-12-12 20:53:08.260204: I tensorflow/core/platform/cpu_feature_guard.cc:193] This TensorFlow binary is optimized with oneAPI Deep Neural Network Library (oneDNN) to use the following CPU instructions in performance-critical operations:  AVX2 FMA\n",
      "To enable them in other operations, rebuild TensorFlow with the appropriate compiler flags.\n"
     ]
    }
   ],
   "source": [
    "import os\n",
    "import tensorflow as tf\n",
    "from tensorflow.keras.preprocessing import image\n",
    "import numpy as np\n",
    "import matplotlib as mpl\n",
    "import matplotlib.pyplot as plt\n",
    "import cv2\n",
    "import time\n",
    "print(os.getcwd())\n",
    "\n",
    "# Load the pre-trained model\n",
    "model = tf.keras.models.load_model('new_trained_model.h5')"
   ]
  },
  {
   "cell_type": "code",
   "execution_count": 3,
   "metadata": {},
   "outputs": [
    {
     "name": "stdout",
     "output_type": "stream",
     "text": [
      "1/1 [==============================] - 0s 255ms/step\n",
      "Banana_Stale\n",
      "1/1 [==============================] - 0s 20ms/step\n",
      "Banana_Stale\n",
      "1/1 [==============================] - 0s 20ms/step\n",
      "Banana_Stale\n",
      "1/1 [==============================] - 0s 22ms/step\n",
      "Banana_Stale\n",
      "1/1 [==============================] - 0s 21ms/step\n",
      "Banana_Stale\n",
      "1/1 [==============================] - 0s 21ms/step\n",
      "Banana_Stale\n",
      "1/1 [==============================] - 0s 21ms/step\n",
      "Orange\n",
      "1/1 [==============================] - 0s 21ms/step\n",
      "Orange\n",
      "1/1 [==============================] - 0s 27ms/step\n",
      "Orange\n",
      "1/1 [==============================] - 0s 27ms/step\n",
      "Orange\n",
      "1/1 [==============================] - 0s 22ms/step\n",
      "Orange\n",
      "1/1 [==============================] - 0s 21ms/step\n",
      "Orange\n",
      "1/1 [==============================] - 0s 21ms/step\n",
      "Orange\n",
      "1/1 [==============================] - 0s 21ms/step\n",
      "Orange\n",
      "1/1 [==============================] - 0s 21ms/step\n",
      "Orange\n",
      "1/1 [==============================] - 0s 21ms/step\n",
      "Orange\n",
      "1/1 [==============================] - 0s 20ms/step\n",
      "Orange\n",
      "1/1 [==============================] - 0s 21ms/step\n",
      "Orange\n",
      "1/1 [==============================] - 0s 21ms/step\n",
      "Banana_Stale\n"
     ]
    },
    {
     "ename": "KeyboardInterrupt",
     "evalue": "",
     "output_type": "error",
     "traceback": [
      "\u001b[0;31m---------------------------------------------------------------------------\u001b[0m",
      "\u001b[0;31mKeyboardInterrupt\u001b[0m                         Traceback (most recent call last)",
      "Cell \u001b[0;32mIn [3], line 26\u001b[0m\n\u001b[1;32m     24\u001b[0m \u001b[39m# Displaying the predictions\u001b[39;00m\n\u001b[1;32m     25\u001b[0m \u001b[39mprint\u001b[39m(class_name)\n\u001b[0;32m---> 26\u001b[0m time\u001b[39m.\u001b[39;49msleep(\u001b[39m0.5\u001b[39;49m)\n",
      "\u001b[0;31mKeyboardInterrupt\u001b[0m: "
     ]
    }
   ],
   "source": [
    "class_names = ['Avocado', 'Blueberry', 'Kiwi', 'Lemon', 'Limes', 'Peach', 'Orange', 'Pineapple', 'Strawberry', 'Watermelon', 'Apple_Fresh', 'Banana_Fresh', 'Banana_Stale', 'Apple_Stale']\n",
    "class_dict = {i: class_names[i] for i in range(0, len(class_names))}\n",
    "\n",
    "# loop from 1 to 10 to see if there is a webcam\n",
    "cap = cv2.VideoCapture(0)\n",
    "\n",
    "while True:\n",
    "    ret, frame = cap.read()\n",
    "    if frame is not None:\n",
    "        # Convert the captured frame into RGB\n",
    "        im = cv2.cvtColor(frame, cv2.COLOR_BGR2RGB)\n",
    "\n",
    "        # Resizing into 32x32 because we trained the model with this image size.\n",
    "        im = cv2.resize(im, (32, 32))\n",
    "        im = np.reshape(im, [1, 32, 32, 3])\n",
    "\n",
    "        # Predicting the class\n",
    "        pred = model.predict(im)\n",
    "        # Getting the class name\n",
    "        class_name = class_names[pred.argmax()]\n",
    "\n",
    "        # Displaying the predictions\n",
    "        print(class_name)\n",
    "        time.sleep(0.5)\n"
   ]
  }
 ],
 "metadata": {
  "kernelspec": {
   "display_name": "Python 3.9.12 64-bit",
   "language": "python",
   "name": "python3"
  },
  "language_info": {
   "codemirror_mode": {
    "name": "ipython",
    "version": 3
   },
   "file_extension": ".py",
   "mimetype": "text/x-python",
   "name": "python",
   "nbconvert_exporter": "python",
   "pygments_lexer": "ipython3",
   "version": "3.9.12"
  },
  "orig_nbformat": 4,
  "vscode": {
   "interpreter": {
    "hash": "aee8b7b246df8f9039afb4144a1f6fd8d2ca17a180786b69acc140d282b71a49"
   }
  }
 },
 "nbformat": 4,
 "nbformat_minor": 2
}
